{
 "cells": [
  {
   "cell_type": "code",
   "execution_count": 1,
   "id": "f7917ffc",
   "metadata": {},
   "outputs": [],
   "source": [
    "#import dependencies\n",
    "import os\n",
    "import pandas as pd"
   ]
  },
  {
   "cell_type": "code",
   "execution_count": 4,
   "id": "b378117a",
   "metadata": {},
   "outputs": [],
   "source": [
    "#generate path to csv\n",
    "csv_path = os.path.join('resources','cities.csv')\n",
    "cities_csv = pd.read_csv(csv_path)"
   ]
  },
  {
   "cell_type": "code",
   "execution_count": 6,
   "id": "911864ac",
   "metadata": {},
   "outputs": [],
   "source": [
    "#create html table and save to file\n",
    "cities_csv.to_html('table.html', index=False, classes=['table','table-striped','table-hover'])"
   ]
  },
  {
   "cell_type": "code",
   "execution_count": null,
   "id": "aaa69f5c",
   "metadata": {},
   "outputs": [],
   "source": []
  }
 ],
 "metadata": {
  "kernelspec": {
   "display_name": "Python [conda env:PythonDate] *",
   "language": "python",
   "name": "conda-env-PythonDate-py"
  },
  "language_info": {
   "codemirror_mode": {
    "name": "ipython",
    "version": 3
   },
   "file_extension": ".py",
   "mimetype": "text/x-python",
   "name": "python",
   "nbconvert_exporter": "python",
   "pygments_lexer": "ipython3",
   "version": "3.6.10"
  }
 },
 "nbformat": 4,
 "nbformat_minor": 5
}
